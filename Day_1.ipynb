{
 "cells": [
  {
   "cell_type": "code",
   "execution_count": 11,
   "id": "f5eb1b39-da19-4280-ab61-37122b729d7b",
   "metadata": {},
   "outputs": [
    {
     "name": "stdout",
     "output_type": "stream",
     "text": [
      "40\n",
      "252511682940423488616943359375\n",
      "375\n",
      "-10\n",
      "0.6\n",
      "0\n",
      "15\n"
     ]
    }
   ],
   "source": [
    "\n",
    "## All Arithmetic operations\n",
    "a = 15\n",
    "b = 25\n",
    "print (a+b)\n",
    "print (a**b)\n",
    "print (a*b)\n",
    "print(a-b)\n",
    "print(a/b)\n",
    "print(a//b)\n",
    "print(a%b)\n"
   ]
  },
  {
   "cell_type": "code",
   "execution_count": 9,
   "id": "c2d4c1f8-aa4c-4384-9f8a-305ab7c9f3c2",
   "metadata": {},
   "outputs": [],
   "source": [
    "## Simple Interest"
   ]
  },
  {
   "cell_type": "code",
   "execution_count": 10,
   "id": "d1c4c057-4f3f-48ef-83a4-4d1af6b7e012",
   "metadata": {},
   "outputs": [
    {
     "name": "stdin",
     "output_type": "stream",
     "text": [
      " 1500\n",
      " 2.5\n",
      " 8\n"
     ]
    },
    {
     "name": "stdout",
     "output_type": "stream",
     "text": [
      "300.0\n"
     ]
    }
   ],
   "source": [
    "principle_amount = int(input())\n",
    "rate_interest = float(input())\n",
    "Time = int(input())\n",
    "## Calculate the SI\n",
    "\n",
    "simple_interest = (principle_amount * Time * rate_interest) / 100\n",
    "\n",
    "print (simple_interest)\n"
   ]
  },
  {
   "cell_type": "code",
   "execution_count": null,
   "id": "7efe3bfc-e9dd-4777-8f2c-d250bf144572",
   "metadata": {},
   "outputs": [],
   "source": []
  }
 ],
 "metadata": {
  "kernelspec": {
   "display_name": "Python 3",
   "language": "python",
   "name": "python3"
  },
  "language_info": {
   "codemirror_mode": {
    "name": "ipython",
    "version": 3
   },
   "file_extension": ".py",
   "mimetype": "text/x-python",
   "name": "python",
   "nbconvert_exporter": "python",
   "pygments_lexer": "ipython3",
   "version": "3.7.8"
  }
 },
 "nbformat": 4,
 "nbformat_minor": 5
}
